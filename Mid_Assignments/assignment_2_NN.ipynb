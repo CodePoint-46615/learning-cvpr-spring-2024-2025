{
  "nbformat": 4,
  "nbformat_minor": 0,
  "metadata": {
    "colab": {
      "provenance": [],
      "toc_visible": true
    },
    "kernelspec": {
      "name": "python3",
      "display_name": "Python 3"
    },
    "language_info": {
      "name": "python"
    }
  },
  "cells": [
    {
      "cell_type": "markdown",
      "source": [
        "# Import Libraries"
      ],
      "metadata": {
        "id": "w3-AkkG03cvw"
      }
    },
    {
      "cell_type": "code",
      "source": [
        "import numpy as np\n",
        "from sklearn.model_selection import train_test_split\n",
        "from sklearn.metrics import classification_report, confusion_matrix\n",
        "import matplotlib.pyplot as plt\n",
        "import seaborn as sns\n"
      ],
      "metadata": {
        "id": "-fi_VSg23aBa"
      },
      "execution_count": 10,
      "outputs": []
    },
    {
      "cell_type": "markdown",
      "source": [
        "# Dataset Generation"
      ],
      "metadata": {
        "id": "4nkr64Wkwmny"
      }
    },
    {
      "cell_type": "code",
      "execution_count": 22,
      "metadata": {
        "id": "DxCTsgB5lE8T",
        "colab": {
          "base_uri": "https://localhost:8080/"
        },
        "outputId": "7e90e4a2-1520-491f-aea2-2191f3eae46b"
      },
      "outputs": [
        {
          "output_type": "execute_result",
          "data": {
            "text/plain": [
              "((250, 2), (250,), (175, 5), (75, 5))"
            ]
          },
          "metadata": {},
          "execution_count": 22
        }
      ],
      "source": [
        "# Set random seed for reproducibility\n",
        "np.random.seed(42)\n",
        "\n",
        "# Generate synthetic dataset with 5 classes\n",
        "def generate_dataset(samples_per_class=100):\n",
        "    X = []\n",
        "    Y = []\n",
        "    centers = [(-2, -2), (2, 2), (-2, 2), (2, -2), (0, 0)]\n",
        "    for class_idx, center in enumerate(centers):\n",
        "        x1 = np.random.normal(center[0], 0.5, samples_per_class)\n",
        "        x2 = np.random.normal(center[1], 0.5, samples_per_class)\n",
        "        X.extend(zip(x1, x2))\n",
        "        Y.extend([class_idx] * samples_per_class)\n",
        "    return np.array(X), np.array(Y)\n",
        "\n",
        "X, y = generate_dataset(50)\n",
        "X_train, X_test, y_train, y_test = train_test_split(X, y, test_size=0.3)\n",
        "\n",
        "# One-hot encode labels\n",
        "def one_hot(y, num_classes=5):\n",
        "    return np.eye(num_classes)[y]\n",
        "\n",
        "y_train_oh = one_hot(y_train)\n",
        "y_test_oh = one_hot(y_test)\n",
        "\n",
        "X.shape, y.shape, y_train_oh.shape, y_test_oh.shape\n"
      ]
    },
    {
      "cell_type": "markdown",
      "source": [
        "# Neural Networking Model"
      ],
      "metadata": {
        "id": "12TlhKd64Fd6"
      }
    },
    {
      "cell_type": "code",
      "source": [
        "class NeuralNetwork(object):\n",
        "    def __init__(self):\n",
        "        inputLayerNeurons = 2\n",
        "        hidden1Neurons = 8\n",
        "        hidden2Neurons = 6\n",
        "        hidden3Neurons = 4\n",
        "        outputNeurons = 5  # For 5-class classification\n",
        "\n",
        "        self.learning_rate = 0.2\n",
        "\n",
        "        # Initialize weights for each layer\n",
        "        self.W_H1 = np.random.randn(inputLayerNeurons, hidden1Neurons)\n",
        "        self.W_H2 = np.random.randn(hidden1Neurons, hidden2Neurons)\n",
        "        self.W_H3 = np.random.randn(hidden2Neurons, hidden3Neurons)\n",
        "        self.W_OUT = np.random.randn(hidden3Neurons, outputNeurons)\n",
        "\n",
        "    def sigmoid(self, x, der=False):\n",
        "        if der == True:\n",
        "            return x * (1 - x)\n",
        "        else:\n",
        "            return 1 / (1 + np.exp(-x))\n",
        "\n",
        "    def feedForward(self, X):\n",
        "        # Forward pass through all layers\n",
        "        self.Z1 = np.dot(X, self.W_H1)\n",
        "        self.A1 = self.sigmoid(self.Z1)\n",
        "\n",
        "        self.Z2 = np.dot(self.A1, self.W_H2)\n",
        "        self.A2 = self.sigmoid(self.Z2)\n",
        "\n",
        "        self.Z3 = np.dot(self.A2, self.W_H3)\n",
        "        self.A3 = self.sigmoid(self.Z3)\n",
        "\n",
        "        self.Z_out = np.dot(self.A3, self.W_OUT)\n",
        "        self.output = self.sigmoid(self.Z_out)  # Sigmoid output for multi-label; use softmax for exclusive class\n",
        "        return self.output\n",
        "\n",
        "    def backPropagation(self, X, Y, pred):\n",
        "        # Output layer error and delta\n",
        "        output_error = Y - pred\n",
        "        output_delta = self.learning_rate * output_error * self.sigmoid(pred, der=True)\n",
        "\n",
        "        # Hidden layer 3\n",
        "        error_H3 = output_delta.dot(self.W_OUT.T)\n",
        "        delta_H3 = self.learning_rate * error_H3 * self.sigmoid(self.A3, der=True)\n",
        "\n",
        "        # Hidden layer 2\n",
        "        error_H2 = delta_H3.dot(self.W_H3.T)\n",
        "        delta_H2 = self.learning_rate * error_H2 * self.sigmoid(self.A2, der=True)\n",
        "\n",
        "        # Hidden layer 1\n",
        "        error_H1 = delta_H2.dot(self.W_H2.T)\n",
        "        delta_H1 = self.learning_rate * error_H1 * self.sigmoid(self.A1, der=True)\n",
        "\n",
        "        # Update weights\n",
        "        self.W_OUT += self.A3.T.dot(output_delta)\n",
        "        self.W_H3 += self.A2.T.dot(delta_H3)\n",
        "        self.W_H2 += self.A1.T.dot(delta_H2)\n",
        "        self.W_H1 += X.T.dot(delta_H1)\n",
        "\n",
        "    def train(self, X, Y):\n",
        "        pred = self.feedForward(X)\n",
        "        self.backPropagation(X, Y, pred)\n"
      ],
      "metadata": {
        "id": "uOF7h37r4GSE"
      },
      "execution_count": 16,
      "outputs": []
    },
    {
      "cell_type": "markdown",
      "source": [
        "# Results and Analysis"
      ],
      "metadata": {
        "id": "n5eInFtw4obe"
      }
    },
    {
      "cell_type": "code",
      "source": [
        "# Instantiate your 3-hidden-layer neural network\n",
        "NN = NeuralNetwork()\n",
        "\n",
        "# Track error over 10,000 epochs\n",
        "err = []\n",
        "for i in range(10000):\n",
        "    NN.train(X_train, y_train_oh)  # Use one-hot encoded labels\n",
        "    pred = NN.feedForward(X_train)\n",
        "    mse = np.mean(np.square(y_train_oh - pred))  # Mean Squared Error\n",
        "    err.append(mse)\n",
        "\n",
        "# Plot training error over time\n",
        "plt.figure(figsize=(10, 5))\n",
        "plt.plot(err, label='Training Error (MSE)')\n",
        "plt.xlabel('Epochs')\n",
        "plt.ylabel('Mean Squared Error')\n",
        "plt.title('Training Error Convergence')\n",
        "plt.grid(True)\n",
        "plt.legend()\n",
        "plt.tight_layout()\n",
        "plt.show()\n"
      ],
      "metadata": {
        "colab": {
          "base_uri": "https://localhost:8080/",
          "height": 507
        },
        "id": "lfRQJBxYFcZ9",
        "outputId": "1046bec9-cc78-4726-88fc-1f3c55642fa6"
      },
      "execution_count": 27,
      "outputs": [
        {
          "output_type": "display_data",
          "data": {
            "text/plain": [
              "<Figure size 1000x500 with 1 Axes>"
            ],
            "image/png": "[encoded data removed]"
          },
          "metadata": {}
        }
      ]
    },
    {
      "cell_type": "code",
      "source": [
        "from sklearn.metrics import classification_report, confusion_matrix\n",
        "\n",
        "# Predict on the test set\n",
        "y_pred = NN.feedForward(X_test)\n",
        "y_pred = np.argmax(y_pred, axis=1)\n",
        "y_true = np.argmax(y_test_oh, axis=1)\n",
        "\n",
        "# Generate classification report\n",
        "report = classification_report(y_true, y_pred, output_dict=True)\n",
        "conf_matrix = confusion_matrix(y_true, y_pred)\n",
        "\n",
        "# Plot confusion matrix\n",
        "plt.figure(figsize=(8, 6))\n",
        "sns.heatmap(conf_matrix, annot=True, fmt='d', cmap='Blues', xticklabels=range(5), yticklabels=range(5))\n",
        "plt.xlabel('Predicted Label')\n",
        "plt.ylabel('True Label')\n",
        "plt.title('Confusion Matrix')\n",
        "plt.show()\n",
        "\n",
        "# Display classification metrics\n",
        "report\n"
      ],
      "metadata": {
        "colab": {
          "base_uri": "https://localhost:8080/",
          "height": 988
        },
        "id": "ouV_0twz4vyZ",
        "outputId": "a686bc7d-8bea-4501-a733-5b82c0d30ffd"
      },
      "execution_count": 31,
      "outputs": [
        {
          "output_type": "display_data",
          "data": {
            "text/plain": [
              "<Figure size 800x600 with 2 Axes>"
            ],
            "image/png": "[encoded data removed]"
          },
          "metadata": {}
        },
        {
          "output_type": "execute_result",
          "data": {
            "text/plain": [
              "{'0': {'precision': 1.0, 'recall': 1.0, 'f1-score': 1.0, 'support': 14.0},\n",
              " '1': {'precision': 1.0, 'recall': 1.0, 'f1-score': 1.0, 'support': 16.0},\n",
              " '2': {'precision': 1.0,\n",
              "  'recall': 0.9333333333333333,\n",
              "  'f1-score': 0.9655172413793104,\n",
              "  'support': 15.0},\n",
              " '3': {'precision': 0.9545454545454546,\n",
              "  'recall': 1.0,\n",
              "  'f1-score': 0.9767441860465116,\n",
              "  'support': 21.0},\n",
              " '4': {'precision': 0.8888888888888888,\n",
              "  'recall': 0.8888888888888888,\n",
              "  'f1-score': 0.8888888888888888,\n",
              "  'support': 9.0},\n",
              " 'accuracy': 0.9733333333333334,\n",
              " 'macro avg': {'precision': 0.9686868686868687,\n",
              "  'recall': 0.9644444444444445,\n",
              "  'f1-score': 0.9662300632629421,\n",
              "  'support': 75.0},\n",
              " 'weighted avg': {'precision': 0.973939393939394,\n",
              "  'recall': 0.9733333333333334,\n",
              "  'f1-score': 0.973258487035552,\n",
              "  'support': 75.0}}"
            ]
          },
          "metadata": {},
          "execution_count": 31
        }
      ]
    },
    {
      "cell_type": "markdown",
      "source": [
        "# Documentation"
      ],
      "metadata": {
        "id": "Mgu7g2O75D2J"
      }
    },
    {
      "cell_type": "markdown",
      "source": [
        "1. Dataset Generation\n",
        "\n",
        "    The synthetic dataset was generated with 250 samples divided evenly across 5 distinct classes. Each class was created by sampling from a Gaussian distribution centered at a unique 2D point, ensuring separability. The dataset was split into:\n",
        "\n",
        "    Training set: 175 samples\n",
        "\n",
        "    Testing set: 75 samples\n",
        "\n",
        "    To prepare for multi-class classification, class labels were one-hot encoded.\n",
        "\n",
        "    Train-test split: 70% training (175), 30% testing (75)\n",
        "\n",
        "2. Network Architecture\n",
        "\n",
        "    Input layer: 2 neurons (2D features)\n",
        "\n",
        "    Hidden layers: 3 layers with 16, 12, and 8 neurons respectively\n",
        "\n",
        "    Output layer: 5 neurons (one for each class)\n",
        "\n",
        "    Activation Functions: Sigmoid\n",
        "\n",
        "\n",
        "3. Training Loop\n",
        "    Trained the network over 10,000 epochs using full-batch gradient descent\n",
        "\n",
        "    Collected MSE at each epoch for plotting convergence\n",
        "\n",
        "    Final loss converged very low, indicating successful learning\n",
        "\n",
        "4. Training Loss Visualization Plotted Training Error Convergence using matplotlib.\n",
        "\n",
        "\n",
        "5. Evaluation\n",
        "\n",
        "    Accuracy: 97.33% — out of 75 test samples, only 2 were misclassified.\n",
        "\n",
        "    Macro Average (simple average across classes):\n",
        "\n",
        "    Precision: 0.9687\n",
        "\n",
        "    Recall: 0.9644\n",
        "\n",
        "    F1-Score: 0.9662\n",
        "\n",
        "    Weighted Average (accounts for class size):\n",
        "\n",
        "    Precision: 0.9739\n",
        "\n",
        "    Recall: 0.9733\n",
        "\n",
        "    F1-Score: 0.9733"
      ],
      "metadata": {
        "id": "_yCz97lY5LkJ"
      }
    }
  ]
}